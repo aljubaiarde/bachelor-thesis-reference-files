{
  "nbformat": 4,
  "nbformat_minor": 0,
  "metadata": {
    "colab": {
      "provenance": []
    },
    "kernelspec": {
      "name": "python3",
      "display_name": "Python 3"
    },
    "language_info": {
      "name": "python"
    }
  },
  "cells": [
    {
      "cell_type": "code",
      "execution_count": null,
      "metadata": {
        "colab": {
          "base_uri": "https://localhost:8080/"
        },
        "id": "vytEvF9xyvLA",
        "outputId": "a753e5c0-5ac8-422b-cb2d-561003341365"
      },
      "outputs": [
        {
          "output_type": "stream",
          "name": "stdout",
          "text": [
            "Collecting jiwer\n",
            "  Downloading jiwer-3.0.4-py3-none-any.whl (21 kB)\n",
            "Requirement already satisfied: click<9.0.0,>=8.1.3 in /usr/local/lib/python3.10/dist-packages (from jiwer) (8.1.7)\n",
            "Collecting rapidfuzz<4,>=3 (from jiwer)\n",
            "  Downloading rapidfuzz-3.9.4-cp310-cp310-manylinux_2_17_x86_64.manylinux2014_x86_64.whl (3.4 MB)\n",
            "\u001b[2K     \u001b[90m━━━━━━━━━━━━━━━━━━━━━━━━━━━━━━━━━━━━━━━━\u001b[0m \u001b[32m3.4/3.4 MB\u001b[0m \u001b[31m13.6 MB/s\u001b[0m eta \u001b[36m0:00:00\u001b[0m\n",
            "\u001b[?25hInstalling collected packages: rapidfuzz, jiwer\n",
            "Successfully installed jiwer-3.0.4 rapidfuzz-3.9.4\n",
            "Mounted at /content/drive\n",
            "Word Error Rate (WER): 0.10329341317365269\n"
          ]
        }
      ],
      "source": [
        "# Install necessary libraries\n",
        "!pip install jiwer\n",
        "\n",
        "# Mount Google Drive\n",
        "from google.colab import drive\n",
        "drive.mount('/content/drive')\n",
        "\n",
        "# Import required libraries\n",
        "from jiwer import wer\n",
        "\n",
        "# Function to calculate WER between two transcripts\n",
        "def calculate_wer(known_transcript_path, generated_transcript_path):\n",
        "    # Read the transcripts from files\n",
        "    with open(known_transcript_path, 'r', encoding='utf-8') as f:\n",
        "        known_transcript = f.read().strip()\n",
        "\n",
        "    with open(generated_transcript_path, 'r', encoding='utf-8') as f:\n",
        "        generated_transcript = f.read().strip()\n",
        "\n",
        "    # Calculate WER\n",
        "    error = wer(known_transcript, generated_transcript)\n",
        "\n",
        "    return error\n",
        "\n",
        "known_transcript_file = '/content/drive/My Drive/test/original.txt'\n",
        "generated_transcript_file = '/content/drive/My Drive/test/videoindexer.txt'\n",
        "\n",
        "wer_score = calculate_wer(known_transcript_file, generated_transcript_file)\n",
        "print(f'Word Error Rate (WER): {wer_score}')\n"
      ]
    },
    {
      "cell_type": "code",
      "source": [],
      "metadata": {
        "id": "xlXNAhjhy5P0"
      },
      "execution_count": null,
      "outputs": []
    }
  ]
}